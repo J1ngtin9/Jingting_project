{
  "nbformat": 4,
  "nbformat_minor": 0,
  "metadata": {
    "colab": {
      "provenance": [],
      "authorship_tag": "ABX9TyNtbUoP/J6GNpy6lQxPblXA",
      "include_colab_link": true
    },
    "kernelspec": {
      "name": "python3",
      "display_name": "Python 3"
    },
    "language_info": {
      "name": "python"
    },
    "widgets": {
      "application/vnd.jupyter.widget-state+json": {
        "c1ad2df9a3184f968bd46bcb3484da96": {
          "model_module": "@jupyter-widgets/controls",
          "model_name": "HBoxModel",
          "model_module_version": "1.5.0",
          "state": {
            "_dom_classes": [],
            "_model_module": "@jupyter-widgets/controls",
            "_model_module_version": "1.5.0",
            "_model_name": "HBoxModel",
            "_view_count": null,
            "_view_module": "@jupyter-widgets/controls",
            "_view_module_version": "1.5.0",
            "_view_name": "HBoxView",
            "box_style": "",
            "children": [
              "IPY_MODEL_bf3f748360f449eca034538d09cefb20",
              "IPY_MODEL_7828f8b8557d47bbbcd05031b29ec716",
              "IPY_MODEL_7546cc7181984586882a430f2b6d4a98"
            ],
            "layout": "IPY_MODEL_f4b0e10203334b93a1e6b8b86d0ad781"
          }
        },
        "bf3f748360f449eca034538d09cefb20": {
          "model_module": "@jupyter-widgets/controls",
          "model_name": "HTMLModel",
          "model_module_version": "1.5.0",
          "state": {
            "_dom_classes": [],
            "_model_module": "@jupyter-widgets/controls",
            "_model_module_version": "1.5.0",
            "_model_name": "HTMLModel",
            "_view_count": null,
            "_view_module": "@jupyter-widgets/controls",
            "_view_module_version": "1.5.0",
            "_view_name": "HTMLView",
            "description": "",
            "description_tooltip": null,
            "layout": "IPY_MODEL_6aa03ec61ee848ff8a12743638b6552d",
            "placeholder": "​",
            "style": "IPY_MODEL_793fea934fdd4632a9cf5299d19388bd",
            "value": "100%"
          }
        },
        "7828f8b8557d47bbbcd05031b29ec716": {
          "model_module": "@jupyter-widgets/controls",
          "model_name": "FloatProgressModel",
          "model_module_version": "1.5.0",
          "state": {
            "_dom_classes": [],
            "_model_module": "@jupyter-widgets/controls",
            "_model_module_version": "1.5.0",
            "_model_name": "FloatProgressModel",
            "_view_count": null,
            "_view_module": "@jupyter-widgets/controls",
            "_view_module_version": "1.5.0",
            "_view_name": "ProgressView",
            "bar_style": "success",
            "description": "",
            "description_tooltip": null,
            "layout": "IPY_MODEL_bcf23553209b4cbcb75eb8cd8f1af39a",
            "max": 20177,
            "min": 0,
            "orientation": "horizontal",
            "style": "IPY_MODEL_70f88225d30f4614950e14509167790b",
            "value": 20177
          }
        },
        "7546cc7181984586882a430f2b6d4a98": {
          "model_module": "@jupyter-widgets/controls",
          "model_name": "HTMLModel",
          "model_module_version": "1.5.0",
          "state": {
            "_dom_classes": [],
            "_model_module": "@jupyter-widgets/controls",
            "_model_module_version": "1.5.0",
            "_model_name": "HTMLModel",
            "_view_count": null,
            "_view_module": "@jupyter-widgets/controls",
            "_view_module_version": "1.5.0",
            "_view_name": "HTMLView",
            "description": "",
            "description_tooltip": null,
            "layout": "IPY_MODEL_7d80bd7be31d4a7a92b7bd67d19381d0",
            "placeholder": "​",
            "style": "IPY_MODEL_67406f5b03444c9eb060fe34a40fb497",
            "value": " 20177/20177 [00:30&lt;00:00, 912.51it/s]"
          }
        },
        "f4b0e10203334b93a1e6b8b86d0ad781": {
          "model_module": "@jupyter-widgets/base",
          "model_name": "LayoutModel",
          "model_module_version": "1.2.0",
          "state": {
            "_model_module": "@jupyter-widgets/base",
            "_model_module_version": "1.2.0",
            "_model_name": "LayoutModel",
            "_view_count": null,
            "_view_module": "@jupyter-widgets/base",
            "_view_module_version": "1.2.0",
            "_view_name": "LayoutView",
            "align_content": null,
            "align_items": null,
            "align_self": null,
            "border": null,
            "bottom": null,
            "display": null,
            "flex": null,
            "flex_flow": null,
            "grid_area": null,
            "grid_auto_columns": null,
            "grid_auto_flow": null,
            "grid_auto_rows": null,
            "grid_column": null,
            "grid_gap": null,
            "grid_row": null,
            "grid_template_areas": null,
            "grid_template_columns": null,
            "grid_template_rows": null,
            "height": null,
            "justify_content": null,
            "justify_items": null,
            "left": null,
            "margin": null,
            "max_height": null,
            "max_width": null,
            "min_height": null,
            "min_width": null,
            "object_fit": null,
            "object_position": null,
            "order": null,
            "overflow": null,
            "overflow_x": null,
            "overflow_y": null,
            "padding": null,
            "right": null,
            "top": null,
            "visibility": null,
            "width": null
          }
        },
        "6aa03ec61ee848ff8a12743638b6552d": {
          "model_module": "@jupyter-widgets/base",
          "model_name": "LayoutModel",
          "model_module_version": "1.2.0",
          "state": {
            "_model_module": "@jupyter-widgets/base",
            "_model_module_version": "1.2.0",
            "_model_name": "LayoutModel",
            "_view_count": null,
            "_view_module": "@jupyter-widgets/base",
            "_view_module_version": "1.2.0",
            "_view_name": "LayoutView",
            "align_content": null,
            "align_items": null,
            "align_self": null,
            "border": null,
            "bottom": null,
            "display": null,
            "flex": null,
            "flex_flow": null,
            "grid_area": null,
            "grid_auto_columns": null,
            "grid_auto_flow": null,
            "grid_auto_rows": null,
            "grid_column": null,
            "grid_gap": null,
            "grid_row": null,
            "grid_template_areas": null,
            "grid_template_columns": null,
            "grid_template_rows": null,
            "height": null,
            "justify_content": null,
            "justify_items": null,
            "left": null,
            "margin": null,
            "max_height": null,
            "max_width": null,
            "min_height": null,
            "min_width": null,
            "object_fit": null,
            "object_position": null,
            "order": null,
            "overflow": null,
            "overflow_x": null,
            "overflow_y": null,
            "padding": null,
            "right": null,
            "top": null,
            "visibility": null,
            "width": null
          }
        },
        "793fea934fdd4632a9cf5299d19388bd": {
          "model_module": "@jupyter-widgets/controls",
          "model_name": "DescriptionStyleModel",
          "model_module_version": "1.5.0",
          "state": {
            "_model_module": "@jupyter-widgets/controls",
            "_model_module_version": "1.5.0",
            "_model_name": "DescriptionStyleModel",
            "_view_count": null,
            "_view_module": "@jupyter-widgets/base",
            "_view_module_version": "1.2.0",
            "_view_name": "StyleView",
            "description_width": ""
          }
        },
        "bcf23553209b4cbcb75eb8cd8f1af39a": {
          "model_module": "@jupyter-widgets/base",
          "model_name": "LayoutModel",
          "model_module_version": "1.2.0",
          "state": {
            "_model_module": "@jupyter-widgets/base",
            "_model_module_version": "1.2.0",
            "_model_name": "LayoutModel",
            "_view_count": null,
            "_view_module": "@jupyter-widgets/base",
            "_view_module_version": "1.2.0",
            "_view_name": "LayoutView",
            "align_content": null,
            "align_items": null,
            "align_self": null,
            "border": null,
            "bottom": null,
            "display": null,
            "flex": null,
            "flex_flow": null,
            "grid_area": null,
            "grid_auto_columns": null,
            "grid_auto_flow": null,
            "grid_auto_rows": null,
            "grid_column": null,
            "grid_gap": null,
            "grid_row": null,
            "grid_template_areas": null,
            "grid_template_columns": null,
            "grid_template_rows": null,
            "height": null,
            "justify_content": null,
            "justify_items": null,
            "left": null,
            "margin": null,
            "max_height": null,
            "max_width": null,
            "min_height": null,
            "min_width": null,
            "object_fit": null,
            "object_position": null,
            "order": null,
            "overflow": null,
            "overflow_x": null,
            "overflow_y": null,
            "padding": null,
            "right": null,
            "top": null,
            "visibility": null,
            "width": null
          }
        },
        "70f88225d30f4614950e14509167790b": {
          "model_module": "@jupyter-widgets/controls",
          "model_name": "ProgressStyleModel",
          "model_module_version": "1.5.0",
          "state": {
            "_model_module": "@jupyter-widgets/controls",
            "_model_module_version": "1.5.0",
            "_model_name": "ProgressStyleModel",
            "_view_count": null,
            "_view_module": "@jupyter-widgets/base",
            "_view_module_version": "1.2.0",
            "_view_name": "StyleView",
            "bar_color": null,
            "description_width": ""
          }
        },
        "7d80bd7be31d4a7a92b7bd67d19381d0": {
          "model_module": "@jupyter-widgets/base",
          "model_name": "LayoutModel",
          "model_module_version": "1.2.0",
          "state": {
            "_model_module": "@jupyter-widgets/base",
            "_model_module_version": "1.2.0",
            "_model_name": "LayoutModel",
            "_view_count": null,
            "_view_module": "@jupyter-widgets/base",
            "_view_module_version": "1.2.0",
            "_view_name": "LayoutView",
            "align_content": null,
            "align_items": null,
            "align_self": null,
            "border": null,
            "bottom": null,
            "display": null,
            "flex": null,
            "flex_flow": null,
            "grid_area": null,
            "grid_auto_columns": null,
            "grid_auto_flow": null,
            "grid_auto_rows": null,
            "grid_column": null,
            "grid_gap": null,
            "grid_row": null,
            "grid_template_areas": null,
            "grid_template_columns": null,
            "grid_template_rows": null,
            "height": null,
            "justify_content": null,
            "justify_items": null,
            "left": null,
            "margin": null,
            "max_height": null,
            "max_width": null,
            "min_height": null,
            "min_width": null,
            "object_fit": null,
            "object_position": null,
            "order": null,
            "overflow": null,
            "overflow_x": null,
            "overflow_y": null,
            "padding": null,
            "right": null,
            "top": null,
            "visibility": null,
            "width": null
          }
        },
        "67406f5b03444c9eb060fe34a40fb497": {
          "model_module": "@jupyter-widgets/controls",
          "model_name": "DescriptionStyleModel",
          "model_module_version": "1.5.0",
          "state": {
            "_model_module": "@jupyter-widgets/controls",
            "_model_module_version": "1.5.0",
            "_model_name": "DescriptionStyleModel",
            "_view_count": null,
            "_view_module": "@jupyter-widgets/base",
            "_view_module_version": "1.2.0",
            "_view_name": "StyleView",
            "description_width": ""
          }
        },
        "1d2b9f2eafb0442ca2683bcbcd849483": {
          "model_module": "@jupyter-widgets/controls",
          "model_name": "HBoxModel",
          "model_module_version": "1.5.0",
          "state": {
            "_dom_classes": [],
            "_model_module": "@jupyter-widgets/controls",
            "_model_module_version": "1.5.0",
            "_model_name": "HBoxModel",
            "_view_count": null,
            "_view_module": "@jupyter-widgets/controls",
            "_view_module_version": "1.5.0",
            "_view_name": "HBoxView",
            "box_style": "",
            "children": [
              "IPY_MODEL_e6ccdc31435242cd8a2dbf87ef41d035",
              "IPY_MODEL_445a97f538fa4b45a15f9a3f8a75634f",
              "IPY_MODEL_f76efe95cf4e42b0875a8d360e1a7c67"
            ],
            "layout": "IPY_MODEL_c8314e0dbda748dea32361d6f3cf60b8"
          }
        },
        "e6ccdc31435242cd8a2dbf87ef41d035": {
          "model_module": "@jupyter-widgets/controls",
          "model_name": "HTMLModel",
          "model_module_version": "1.5.0",
          "state": {
            "_dom_classes": [],
            "_model_module": "@jupyter-widgets/controls",
            "_model_module_version": "1.5.0",
            "_model_name": "HTMLModel",
            "_view_count": null,
            "_view_module": "@jupyter-widgets/controls",
            "_view_module_version": "1.5.0",
            "_view_name": "HTMLView",
            "description": "",
            "description_tooltip": null,
            "layout": "IPY_MODEL_51fdd7fe993245caa0f0e14291dc1c2f",
            "placeholder": "​",
            "style": "IPY_MODEL_55b9f120a90d457282e6a5facf1b1609",
            "value": "100%"
          }
        },
        "445a97f538fa4b45a15f9a3f8a75634f": {
          "model_module": "@jupyter-widgets/controls",
          "model_name": "FloatProgressModel",
          "model_module_version": "1.5.0",
          "state": {
            "_dom_classes": [],
            "_model_module": "@jupyter-widgets/controls",
            "_model_module_version": "1.5.0",
            "_model_name": "FloatProgressModel",
            "_view_count": null,
            "_view_module": "@jupyter-widgets/controls",
            "_view_module_version": "1.5.0",
            "_view_name": "ProgressView",
            "bar_style": "success",
            "description": "",
            "description_tooltip": null,
            "layout": "IPY_MODEL_7f29f76476894a7e915a05796f360ecb",
            "max": 186,
            "min": 0,
            "orientation": "horizontal",
            "style": "IPY_MODEL_37fbf7f45f104d2d8c2fc3e4f65208fa",
            "value": 186
          }
        },
        "f76efe95cf4e42b0875a8d360e1a7c67": {
          "model_module": "@jupyter-widgets/controls",
          "model_name": "HTMLModel",
          "model_module_version": "1.5.0",
          "state": {
            "_dom_classes": [],
            "_model_module": "@jupyter-widgets/controls",
            "_model_module_version": "1.5.0",
            "_model_name": "HTMLModel",
            "_view_count": null,
            "_view_module": "@jupyter-widgets/controls",
            "_view_module_version": "1.5.0",
            "_view_name": "HTMLView",
            "description": "",
            "description_tooltip": null,
            "layout": "IPY_MODEL_2c3b593c532042f5a591741661507da9",
            "placeholder": "​",
            "style": "IPY_MODEL_8ec239e6374844c2a3fb62b47f42e31c",
            "value": " 186/186 [00:00&lt;00:00, 632.98it/s]"
          }
        },
        "c8314e0dbda748dea32361d6f3cf60b8": {
          "model_module": "@jupyter-widgets/base",
          "model_name": "LayoutModel",
          "model_module_version": "1.2.0",
          "state": {
            "_model_module": "@jupyter-widgets/base",
            "_model_module_version": "1.2.0",
            "_model_name": "LayoutModel",
            "_view_count": null,
            "_view_module": "@jupyter-widgets/base",
            "_view_module_version": "1.2.0",
            "_view_name": "LayoutView",
            "align_content": null,
            "align_items": null,
            "align_self": null,
            "border": null,
            "bottom": null,
            "display": null,
            "flex": null,
            "flex_flow": null,
            "grid_area": null,
            "grid_auto_columns": null,
            "grid_auto_flow": null,
            "grid_auto_rows": null,
            "grid_column": null,
            "grid_gap": null,
            "grid_row": null,
            "grid_template_areas": null,
            "grid_template_columns": null,
            "grid_template_rows": null,
            "height": null,
            "justify_content": null,
            "justify_items": null,
            "left": null,
            "margin": null,
            "max_height": null,
            "max_width": null,
            "min_height": null,
            "min_width": null,
            "object_fit": null,
            "object_position": null,
            "order": null,
            "overflow": null,
            "overflow_x": null,
            "overflow_y": null,
            "padding": null,
            "right": null,
            "top": null,
            "visibility": null,
            "width": null
          }
        },
        "51fdd7fe993245caa0f0e14291dc1c2f": {
          "model_module": "@jupyter-widgets/base",
          "model_name": "LayoutModel",
          "model_module_version": "1.2.0",
          "state": {
            "_model_module": "@jupyter-widgets/base",
            "_model_module_version": "1.2.0",
            "_model_name": "LayoutModel",
            "_view_count": null,
            "_view_module": "@jupyter-widgets/base",
            "_view_module_version": "1.2.0",
            "_view_name": "LayoutView",
            "align_content": null,
            "align_items": null,
            "align_self": null,
            "border": null,
            "bottom": null,
            "display": null,
            "flex": null,
            "flex_flow": null,
            "grid_area": null,
            "grid_auto_columns": null,
            "grid_auto_flow": null,
            "grid_auto_rows": null,
            "grid_column": null,
            "grid_gap": null,
            "grid_row": null,
            "grid_template_areas": null,
            "grid_template_columns": null,
            "grid_template_rows": null,
            "height": null,
            "justify_content": null,
            "justify_items": null,
            "left": null,
            "margin": null,
            "max_height": null,
            "max_width": null,
            "min_height": null,
            "min_width": null,
            "object_fit": null,
            "object_position": null,
            "order": null,
            "overflow": null,
            "overflow_x": null,
            "overflow_y": null,
            "padding": null,
            "right": null,
            "top": null,
            "visibility": null,
            "width": null
          }
        },
        "55b9f120a90d457282e6a5facf1b1609": {
          "model_module": "@jupyter-widgets/controls",
          "model_name": "DescriptionStyleModel",
          "model_module_version": "1.5.0",
          "state": {
            "_model_module": "@jupyter-widgets/controls",
            "_model_module_version": "1.5.0",
            "_model_name": "DescriptionStyleModel",
            "_view_count": null,
            "_view_module": "@jupyter-widgets/base",
            "_view_module_version": "1.2.0",
            "_view_name": "StyleView",
            "description_width": ""
          }
        },
        "7f29f76476894a7e915a05796f360ecb": {
          "model_module": "@jupyter-widgets/base",
          "model_name": "LayoutModel",
          "model_module_version": "1.2.0",
          "state": {
            "_model_module": "@jupyter-widgets/base",
            "_model_module_version": "1.2.0",
            "_model_name": "LayoutModel",
            "_view_count": null,
            "_view_module": "@jupyter-widgets/base",
            "_view_module_version": "1.2.0",
            "_view_name": "LayoutView",
            "align_content": null,
            "align_items": null,
            "align_self": null,
            "border": null,
            "bottom": null,
            "display": null,
            "flex": null,
            "flex_flow": null,
            "grid_area": null,
            "grid_auto_columns": null,
            "grid_auto_flow": null,
            "grid_auto_rows": null,
            "grid_column": null,
            "grid_gap": null,
            "grid_row": null,
            "grid_template_areas": null,
            "grid_template_columns": null,
            "grid_template_rows": null,
            "height": null,
            "justify_content": null,
            "justify_items": null,
            "left": null,
            "margin": null,
            "max_height": null,
            "max_width": null,
            "min_height": null,
            "min_width": null,
            "object_fit": null,
            "object_position": null,
            "order": null,
            "overflow": null,
            "overflow_x": null,
            "overflow_y": null,
            "padding": null,
            "right": null,
            "top": null,
            "visibility": null,
            "width": null
          }
        },
        "37fbf7f45f104d2d8c2fc3e4f65208fa": {
          "model_module": "@jupyter-widgets/controls",
          "model_name": "ProgressStyleModel",
          "model_module_version": "1.5.0",
          "state": {
            "_model_module": "@jupyter-widgets/controls",
            "_model_module_version": "1.5.0",
            "_model_name": "ProgressStyleModel",
            "_view_count": null,
            "_view_module": "@jupyter-widgets/base",
            "_view_module_version": "1.2.0",
            "_view_name": "StyleView",
            "bar_color": null,
            "description_width": ""
          }
        },
        "2c3b593c532042f5a591741661507da9": {
          "model_module": "@jupyter-widgets/base",
          "model_name": "LayoutModel",
          "model_module_version": "1.2.0",
          "state": {
            "_model_module": "@jupyter-widgets/base",
            "_model_module_version": "1.2.0",
            "_model_name": "LayoutModel",
            "_view_count": null,
            "_view_module": "@jupyter-widgets/base",
            "_view_module_version": "1.2.0",
            "_view_name": "LayoutView",
            "align_content": null,
            "align_items": null,
            "align_self": null,
            "border": null,
            "bottom": null,
            "display": null,
            "flex": null,
            "flex_flow": null,
            "grid_area": null,
            "grid_auto_columns": null,
            "grid_auto_flow": null,
            "grid_auto_rows": null,
            "grid_column": null,
            "grid_gap": null,
            "grid_row": null,
            "grid_template_areas": null,
            "grid_template_columns": null,
            "grid_template_rows": null,
            "height": null,
            "justify_content": null,
            "justify_items": null,
            "left": null,
            "margin": null,
            "max_height": null,
            "max_width": null,
            "min_height": null,
            "min_width": null,
            "object_fit": null,
            "object_position": null,
            "order": null,
            "overflow": null,
            "overflow_x": null,
            "overflow_y": null,
            "padding": null,
            "right": null,
            "top": null,
            "visibility": null,
            "width": null
          }
        },
        "8ec239e6374844c2a3fb62b47f42e31c": {
          "model_module": "@jupyter-widgets/controls",
          "model_name": "DescriptionStyleModel",
          "model_module_version": "1.5.0",
          "state": {
            "_model_module": "@jupyter-widgets/controls",
            "_model_module_version": "1.5.0",
            "_model_name": "DescriptionStyleModel",
            "_view_count": null,
            "_view_module": "@jupyter-widgets/base",
            "_view_module_version": "1.2.0",
            "_view_name": "StyleView",
            "description_width": ""
          }
        }
      }
    }
  },
  "cells": [
    {
      "cell_type": "markdown",
      "metadata": {
        "id": "view-in-github",
        "colab_type": "text"
      },
      "source": [
        "<a href=\"https://colab.research.google.com/github/J1ngtin9/Jingting_project/blob/main/code/EDA.ipynb\" target=\"_parent\"><img src=\"https://colab.research.google.com/assets/colab-badge.svg\" alt=\"Open In Colab\"/></a>"
      ]
    },
    {
      "cell_type": "code",
      "source": [
        "!pip install -q snownlp\n"
      ],
      "metadata": {
        "id": "S83QXsoBPpZm"
      },
      "execution_count": null,
      "outputs": []
    },
    {
      "cell_type": "code",
      "execution_count": null,
      "metadata": {
        "id": "UIm_L8kyPDm3"
      },
      "outputs": [],
      "source": [
        "import re\n",
        "from pathlib import Path\n",
        "import numpy as np\n",
        "import pandas as pd\n",
        "import matplotlib.pyplot as plt\n",
        "from tqdm.auto import tqdm\n",
        "from snownlp import SnowNLP\n"
      ]
    },
    {
      "cell_type": "code",
      "source": [
        "\n",
        "# ------------------\n",
        "# Parameters\n",
        "# ------------------\n",
        "INPUT_XLSX   = \"Newspapers_merged_sorted.xlsx\"\n",
        "OUT_XLSX     = \"EDA_and_basic_sentiment.xlsx\"\n",
        "SHE_REGEX    = r\"(她)\"   # subset: titles that explicitly contain \"她...\"\n",
        "NEUTRAL_BAND = 0.05               # neutral band around 0.5 for labeling\n",
        "TOP_N_PAPERS = 20                 # top-N newspapers by count to display"
      ],
      "metadata": {
        "id": "K5Gxohk0PtGk"
      },
      "execution_count": null,
      "outputs": []
    },
    {
      "cell_type": "code",
      "source": [
        "# ------------------\n",
        "# Load data\n",
        "# ------------------\n",
        "df = pd.read_excel(INPUT_XLSX)\n",
        "if \"Title\" not in df.columns:\n",
        "    raise ValueError(\"Column `Title` not found in the input Excel file.\")\n",
        "\n",
        "df[\"Title\"] = df[\"Title\"].astype(str).str.strip()\n",
        "# Derive year from Time if present (coerce errors to NaT)\n",
        "df[\"year\"]  = pd.to_datetime(df.get(\"Time\"), errors=\"coerce\").dt.year"
      ],
      "metadata": {
        "id": "4_zOvemrP0pY"
      },
      "execution_count": null,
      "outputs": []
    },
    {
      "cell_type": "code",
      "source": [
        "# ------------------\n",
        "# 1) Year bar chart\n",
        "# ------------------\n",
        "year_counts = (\n",
        "    df[\"year\"]\n",
        "    .value_counts(dropna=False)\n",
        "    .sort_index()\n",
        "    .rename(\"count\")\n",
        "    .to_frame()\n",
        ")\n",
        "\n",
        "plt.figure()\n",
        "year_counts[\"count\"].plot(kind=\"bar\")\n",
        "plt.title(\"Count of Titles by Year\")\n",
        "plt.xlabel(\"Year\")\n",
        "plt.ylabel(\"Count\")\n",
        "plt.tight_layout()\n",
        "plt.show()"
      ],
      "metadata": {
        "colab": {
          "base_uri": "https://localhost:8080/",
          "height": 487
        },
        "id": "ycBfAs-ARRUF",
        "outputId": "2e39f308-3e43-42a5-819b-c0f4c233c05f"
      },
      "execution_count": null,
      "outputs": [
        {
          "output_type": "display_data",
          "data": {
            "text/plain": [
              "<Figure size 640x480 with 1 Axes>"
            ],
            "image/png": "[encoded data removed]"
          },
          "metadata": {}
        }
      ]
    },
    {
      "cell_type": "code",
      "source": [
        "\n",
        "# ------------------\n",
        "# Show the first 10 titles (as they appear in the file)\n",
        "# ------------------\n",
        "top10_all = df[\"Title\"].head(10).reset_index(drop=True)\n",
        "print(\"\\n[Top 10 titles overall]\")\n",
        "for i, t in enumerate(top10_all, 1):\n",
        "    print(f\"{i:>2}. {t}\")\n"
      ],
      "metadata": {
        "colab": {
          "base_uri": "https://localhost:8080/"
        },
        "id": "GwRXdPOuRSMc",
        "outputId": "ff1c3b52-1851-4f92-a642-ab3568860469"
      },
      "execution_count": null,
      "outputs": [
        {
          "output_type": "stream",
          "name": "stdout",
          "text": [
            "\n",
            "[Top 10 titles overall]\n",
            " 1. 野史氏辨狱丛谈\n",
            " 2. 政党组织之必要\n",
            " 3. 论大隈伯对待淸国谈之谬妄（续昨）\n",
            " 4. 学部注最小学教育\n",
            " 5. 幸未成灾\n",
            " 6. 今日是中西医大决战之时机\n",
            " 7. [T]我知道色字当戒然而我在南京路福州路一带见一般艳妆妇女……\n",
            " 8. 折衷社之反对论\n",
            " 9. 焕然一新\n",
            "10. 试行新币法\n"
          ]
        }
      ]
    },
    {
      "cell_type": "code",
      "source": [
        "# -----------------------------------------------------\n",
        "# 3) Share of titles containing \"她\" (overview)\n",
        "# -----------------------------------------------------\n",
        "df[\"has_she_in_title\"] = df[\"Title\"].str.contains(SHE_REGEX, na=False)\n",
        "share_overall = float(df[\"has_she_in_title\"].mean())\n",
        "\n",
        "she_by_year = (\n",
        "    df.groupby(\"year\")[\"has_she_in_title\"]\n",
        "      .mean()\n",
        "      .rename(\"share_with_she\")\n",
        "      .to_frame()\n",
        ")\n",
        "\n",
        "plt.figure()\n",
        "she_by_year[\"share_with_she\"].plot(kind=\"bar\")\n",
        "plt.title(\"Share of Titles Containing 'She' by Year\")\n",
        "plt.xlabel(\"Year\")\n",
        "plt.ylabel(\"Share\")\n",
        "plt.tight_layout()\n",
        "plt.show()\n"
      ],
      "metadata": {
        "colab": {
          "base_uri": "https://localhost:8080/",
          "height": 591
        },
        "id": "IaFcQIhIR6Qw",
        "outputId": "0b96b3dc-51ee-4069-ab2a-77c9465f3601"
      },
      "execution_count": null,
      "outputs": [
        {
          "output_type": "stream",
          "name": "stderr",
          "text": [
            "/tmp/ipython-input-2301376409.py:4: UserWarning: This pattern is interpreted as a regular expression, and has match groups. To actually get the groups, use str.extract.\n",
            "  df[\"has_she_in_title\"] = df[\"Title\"].str.contains(SHE_REGEX, na=False)\n",
            "/tmp/ipython-input-2301376409.py:19: UserWarning: Glyph 22905 (\\N{CJK UNIFIED IDEOGRAPH-5979}) missing from font(s) DejaVu Sans.\n",
            "  plt.tight_layout()\n",
            "/usr/local/lib/python3.12/dist-packages/IPython/core/pylabtools.py:151: UserWarning: Glyph 22905 (\\N{CJK UNIFIED IDEOGRAPH-5979}) missing from font(s) DejaVu Sans.\n",
            "  fig.canvas.print_figure(bytes_io, **kw)\n"
          ]
        },
        {
          "output_type": "display_data",
          "data": {
            "text/plain": [
              "<Figure size 640x480 with 1 Axes>"
            ],
            "image/png": "[encoded data removed]"
          },
          "metadata": {}
        }
      ]
    },
    {
      "cell_type": "code",
      "source": [
        "# ------------------\n",
        "# Show the first 10 titles that contain the single character \"她\"\n",
        "# (sorted by year, then by title for readability)\n",
        "# ------------------\n",
        "hits = df[df[\"Title\"].str.contains(\"她\", na=False)].copy()\n",
        "hits = hits.sort_values([\"year\", \"Title\"], na_position=\"last\")\n",
        "\n",
        "# choose a few helpful columns if they exist\n",
        "cols_wanted = [\"Title\", \"year\", \"Newspaper Title\", \"Time\", \"SourceFile\"]\n",
        "cols = [c for c in cols_wanted if c in hits.columns]\n",
        "\n",
        "print(\"\\n[Top 10 titles containing '她']\")\n",
        "print(hits[cols].head(10).to_string(index=False))\n"
      ],
      "metadata": {
        "colab": {
          "base_uri": "https://localhost:8080/"
        },
        "id": "TjxkC9bUo-JZ",
        "outputId": "f0b954a4-1a63-47e8-ef56-47d2370a26a1"
      },
      "execution_count": null,
      "outputs": [
        {
          "output_type": "stream",
          "name": "stdout",
          "text": [
            "\n",
            "[Top 10 titles containing '她']\n",
            "          Title  year Newspaper Title       Time       SourceFile\n",
            "代名词他（He）同她（She）  1921              晨报 1921-03-18 Newspaper/10.txt\n",
            "              她  1921              晨报 1921-04-23 Newspaper/12.txt\n",
            "              她  1921              京报 1921-06-09 Newspaper/13.txt\n",
            "          她最后的话  1921              京报 1921-03-23 Newspaper/10.txt\n",
            "           她的一生  1921              京报 1921-03-15 Newspaper/10.txt\n",
            "        她的一生（续）  1921              京报 1921-03-16 Newspaper/10.txt\n",
            "           她的去时  1921              晨报 1921-09-27 Newspaper/16.txt\n",
            "            他和她  1922              京报 1922-03-28 Newspaper/18.txt\n",
            "           她的恋爱  1922              京报 1922-10-23 Newspaper/25.txt\n",
            "  发行边藏劝她债劵之官样文章  1923              京报 1923-05-10 Newspaper/28.txt\n"
          ]
        }
      ]
    },
    {
      "cell_type": "code",
      "source": [
        "# ------------------\n",
        "# 4) SnowNLP sentiment\n",
        "# ------------------\n",
        "def snow_score(text: str) -> float:\n",
        "    \"\"\"\n",
        "    Return SnowNLP sentiment in [0,1]; higher = more positive.\n",
        "    Returns NaN for empty or non-string inputs.\n",
        "    \"\"\"\n",
        "    if not isinstance(text, str) or not text.strip():\n",
        "        return np.nan\n",
        "    try:\n",
        "        return float(SnowNLP(text).sentiments)\n",
        "    except Exception:\n",
        "        return np.nan\n",
        "\n",
        "def label_from_posprob(p: float, band: float = NEUTRAL_BAND) -> str:\n",
        "    \"\"\"\n",
        "    Convert a positive-probability (0..1) into a label with a neutral band.\n",
        "    >= 0.5 + band -> positive; <= 0.5 - band -> negative; else neutral.\n",
        "    \"\"\"\n",
        "    if pd.isna(p):\n",
        "        return \"neutral\"\n",
        "    if p >= 0.5 + band:\n",
        "        return \"positive\"\n",
        "    if p <= 0.5 - band:\n",
        "        return \"negative\"\n",
        "    return \"neutral\"\n",
        "\n",
        "# Score ALL titles\n",
        "print(\"[INFO] Scoring ALL titles (SnowNLP)…\")\n",
        "df[\"pos_score_all\"] = [snow_score(t) for t in tqdm(df[\"Title\"].fillna(\"\").tolist())]\n",
        "df[\"sent_all\"] = df[\"pos_score_all\"].apply(label_from_posprob)\n",
        "\n",
        "# Score only titles that explicitly contain \"她…\"\n",
        "df_she = df[df[\"has_she_in_title\"]].copy()\n",
        "print(\"[INFO] Scoring SHE-subset titles (SnowNLP)…\")\n",
        "df_she[\"pos_score_title_she\"] = [snow_score(t) for t in tqdm(df_she[\"Title\"].fillna(\"\").tolist())]\n",
        "df_she[\"sent_title_she\"] = df_she[\"pos_score_title_she\"].apply(label_from_posprob)"
      ],
      "metadata": {
        "colab": {
          "base_uri": "https://localhost:8080/",
          "height": 116,
          "referenced_widgets": [
            "c1ad2df9a3184f968bd46bcb3484da96",
            "bf3f748360f449eca034538d09cefb20",
            "7828f8b8557d47bbbcd05031b29ec716",
            "7546cc7181984586882a430f2b6d4a98",
            "f4b0e10203334b93a1e6b8b86d0ad781",
            "6aa03ec61ee848ff8a12743638b6552d",
            "793fea934fdd4632a9cf5299d19388bd",
            "bcf23553209b4cbcb75eb8cd8f1af39a",
            "70f88225d30f4614950e14509167790b",
            "7d80bd7be31d4a7a92b7bd67d19381d0",
            "67406f5b03444c9eb060fe34a40fb497",
            "1d2b9f2eafb0442ca2683bcbcd849483",
            "e6ccdc31435242cd8a2dbf87ef41d035",
            "445a97f538fa4b45a15f9a3f8a75634f",
            "f76efe95cf4e42b0875a8d360e1a7c67",
            "c8314e0dbda748dea32361d6f3cf60b8",
            "51fdd7fe993245caa0f0e14291dc1c2f",
            "55b9f120a90d457282e6a5facf1b1609",
            "7f29f76476894a7e915a05796f360ecb",
            "37fbf7f45f104d2d8c2fc3e4f65208fa",
            "2c3b593c532042f5a591741661507da9",
            "8ec239e6374844c2a3fb62b47f42e31c"
          ]
        },
        "id": "c1jlNc7BSE0w",
        "outputId": "fb533c32-dda8-4822-a0eb-01a1ad27eed6"
      },
      "execution_count": null,
      "outputs": [
        {
          "output_type": "stream",
          "name": "stdout",
          "text": [
            "[INFO] Scoring ALL titles (SnowNLP)…\n"
          ]
        },
        {
          "output_type": "display_data",
          "data": {
            "text/plain": [
              "  0%|          | 0/20177 [00:00<?, ?it/s]"
            ],
            "application/vnd.jupyter.widget-view+json": {
              "version_major": 2,
              "version_minor": 0,
              "model_id": "c1ad2df9a3184f968bd46bcb3484da96"
            }
          },
          "metadata": {}
        },
        {
          "output_type": "stream",
          "name": "stdout",
          "text": [
            "[INFO] Scoring SHE-subset titles (SnowNLP)…\n"
          ]
        },
        {
          "output_type": "display_data",
          "data": {
            "text/plain": [
              "  0%|          | 0/186 [00:00<?, ?it/s]"
            ],
            "application/vnd.jupyter.widget-view+json": {
              "version_major": 2,
              "version_minor": 0,
              "model_id": "1d2b9f2eafb0442ca2683bcbcd849483"
            }
          },
          "metadata": {}
        }
      ]
    },
    {
      "cell_type": "code",
      "source": [
        "# ------------------\n",
        "# Summaries & yearly breakdowns\n",
        "# ------------------\n",
        "def summarize(series: pd.Series) -> pd.Series:\n",
        "    \"\"\"\n",
        "    Summarize counts and positive rate for a label series with values in {positive, neutral, negative}.\n",
        "    \"\"\"\n",
        "    vc = series.value_counts()\n",
        "    n   = int(vc.sum())\n",
        "    pos = int(vc.get(\"positive\", 0))\n",
        "    neg = int(vc.get(\"negative\", 0))\n",
        "    neu = int(vc.get(\"neutral\",  0))\n",
        "    pos_rate = pos / n if n else np.nan\n",
        "    return pd.Series({\"n\": n, \"positive\": pos, \"negative\": neg, \"neutral\": neu, \"pos_rate\": pos_rate})\n",
        "\n",
        "sum_all = summarize(df[\"sent_all\"])\n",
        "sum_she = summarize(df_she[\"sent_title_she\"])\n",
        "\n",
        "all_by_year = df.groupby(\"year\")[\"sent_all\"].value_counts().unstack(fill_value=0).sort_index()\n",
        "she_by_year_sent = df_she.groupby(\"year\")[\"sent_title_she\"].value_counts().unstack(fill_value=0).sort_index()\n",
        "\n",
        "print(\"\\n[ALL] Overall sentiment counts/rates:\\n\", sum_all)\n",
        "print(\"\\n[SHE] Sentiment for titles containing 'She':\\n\", sum_she)"
      ],
      "metadata": {
        "colab": {
          "base_uri": "https://localhost:8080/"
        },
        "id": "XyAVb_4jSGQ-",
        "outputId": "f5f811e2-f64d-42a2-d518-534a4e1dfbf4"
      },
      "execution_count": null,
      "outputs": [
        {
          "output_type": "stream",
          "name": "stdout",
          "text": [
            "\n",
            "[ALL] Overall sentiment counts/rates:\n",
            " n           20177.000000\n",
            "positive    12273.000000\n",
            "negative     4489.000000\n",
            "neutral      3415.000000\n",
            "pos_rate        0.608267\n",
            "dtype: float64\n",
            "\n",
            "[SHE] Sentiment for titles containing 'She':\n",
            " n           186.000000\n",
            "positive    113.000000\n",
            "negative     37.000000\n",
            "neutral      36.000000\n",
            "pos_rate      0.607527\n",
            "dtype: float64\n"
          ]
        }
      ]
    },
    {
      "cell_type": "code",
      "source": [
        "# ------------------\n",
        "# Charts: yearly sentiment distributions\n",
        "# ------------------\n",
        "if not all_by_year.empty:\n",
        "    plt.figure()\n",
        "    (all_by_year[[\"positive\",\"negative\",\"neutral\"]]\n",
        "     .plot(kind=\"bar\", figsize=(12,4)))\n",
        "    plt.title(\"All Titles: Sentiment by Year (SnowNLP)\")\n",
        "    plt.xlabel(\"Year\")\n",
        "    plt.ylabel(\"Count\")\n",
        "    plt.tight_layout()\n",
        "    plt.show()\n",
        "\n",
        "if not she_by_year_sent.empty:\n",
        "    plt.figure()\n",
        "    (she_by_year_sent[[\"positive\",\"negative\",\"neutral\"]]\n",
        "     .plot(kind=\"bar\", figsize=(12,4)))\n",
        "    plt.title(\"Titles with 'She': Sentiment by Year (SnowNLP)\")\n",
        "    plt.xlabel(\"Year\")\n",
        "    plt.ylabel(\"Count\")\n",
        "    plt.tight_layout()\n",
        "    plt.show()"
      ],
      "metadata": {
        "colab": {
          "base_uri": "https://localhost:8080/",
          "height": 832
        },
        "id": "tyBpmikpSLQK",
        "outputId": "4a89843f-b7a1-4b78-e2fa-dc8c940fcffe"
      },
      "execution_count": null,
      "outputs": [
        {
          "output_type": "display_data",
          "data": {
            "text/plain": [
              "<Figure size 640x480 with 0 Axes>"
            ]
          },
          "metadata": {}
        },
        {
          "output_type": "display_data",
          "data": {
            "text/plain": [
              "<Figure size 1200x400 with 1 Axes>"
            ],
            "image/png": "[encoded data removed]"
          },
          "metadata": {}
        },
        {
          "output_type": "display_data",
          "data": {
            "text/plain": [
              "<Figure size 640x480 with 0 Axes>"
            ]
          },
          "metadata": {}
        },
        {
          "output_type": "display_data",
          "data": {
            "text/plain": [
              "<Figure size 1200x400 with 1 Axes>"
            ],
            "image/png": "[encoded data removed]"
          },
          "metadata": {}
        }
      ]
    }
  ]
}